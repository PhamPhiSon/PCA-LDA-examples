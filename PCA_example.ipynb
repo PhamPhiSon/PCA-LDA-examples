{
 "cells": [
  {
   "cell_type": "markdown",
   "metadata": {},
   "source": [
    "# Mathematical Approach to PCA"
   ]
  },
  {
   "cell_type": "code",
   "execution_count": 1,
   "metadata": {},
   "outputs": [],
   "source": [
    "import numpy as np"
   ]
  },
  {
   "cell_type": "markdown",
   "metadata": {},
   "source": [
    "## Step 1: Prepare the Dataset"
   ]
  },
  {
   "cell_type": "markdown",
   "metadata": {},
   "source": [
    "Consider the below dataset"
   ]
  },
  {
   "cell_type": "code",
   "execution_count": 2,
   "metadata": {},
   "outputs": [],
   "source": [
    "x1 = [4, 8, 13, 7]\n",
    "x2 = [11, 4, 5, 14]"
   ]
  },
  {
   "cell_type": "markdown",
   "metadata": {},
   "source": [
    "Create a 2D array"
   ]
  },
  {
   "cell_type": "code",
   "execution_count": 3,
   "metadata": {},
   "outputs": [
    {
     "name": "stdout",
     "output_type": "stream",
     "text": [
      "[[ 4 11]\n",
      " [ 8  4]\n",
      " [13  5]\n",
      " [ 7 14]]\n"
     ]
    }
   ],
   "source": [
    "X = np.array(list(zip(x1, x2)))\n",
    "print(X)"
   ]
  },
  {
   "cell_type": "markdown",
   "metadata": {},
   "source": [
    "## Step 2: Standardize the Dataset"
   ]
  },
  {
   "cell_type": "markdown",
   "metadata": {},
   "source": [
    "Compute mean of each column"
   ]
  },
  {
   "cell_type": "code",
   "execution_count": 4,
   "metadata": {},
   "outputs": [
    {
     "name": "stdout",
     "output_type": "stream",
     "text": [
      "[8.  8.5]\n"
     ]
    }
   ],
   "source": [
    "mean = np.mean(X, axis = 0) \n",
    "print(mean)"
   ]
  },
  {
   "cell_type": "markdown",
   "metadata": {},
   "source": [
    "Centering the data"
   ]
  },
  {
   "cell_type": "code",
   "execution_count": 5,
   "metadata": {},
   "outputs": [
    {
     "name": "stdout",
     "output_type": "stream",
     "text": [
      "[[-4.   2.5]\n",
      " [ 0.  -4.5]\n",
      " [ 5.  -3.5]\n",
      " [-1.   5.5]]\n"
     ]
    }
   ],
   "source": [
    "X_centered = X - mean\n",
    "print(X_centered)"
   ]
  },
  {
   "cell_type": "markdown",
   "metadata": {},
   "source": [
    "## Step 3: Find the Eigenvalues and Eigenvectors"
   ]
  },
  {
   "cell_type": "markdown",
   "metadata": {},
   "source": [
    "Covariance matrix: $C = \\frac{X . X^T}{N - 1}$ with X is the dataset matrix"
   ]
  },
  {
   "cell_type": "markdown",
   "metadata": {},
   "source": [
    "Calculate covariance matrix"
   ]
  },
  {
   "cell_type": "code",
   "execution_count": 6,
   "metadata": {},
   "outputs": [
    {
     "name": "stdout",
     "output_type": "stream",
     "text": [
      "[[ 14. -11.]\n",
      " [-11.  23.]]\n"
     ]
    }
   ],
   "source": [
    "cov = np.cov(X_centered.T) # (X . X^T) / (n-1)\n",
    "print(cov)"
   ]
  },
  {
   "cell_type": "markdown",
   "metadata": {},
   "source": [
    "#### Calculating by coding"
   ]
  },
  {
   "cell_type": "code",
   "execution_count": 7,
   "metadata": {},
   "outputs": [
    {
     "name": "stdout",
     "output_type": "stream",
     "text": [
      "[ 6.61513568 30.38486432]\n",
      "[[-0.83025082  0.55738997]\n",
      " [-0.55738997 -0.83025082]]\n"
     ]
    }
   ],
   "source": [
    "# calculate the eigenvectors and eigenvalues\n",
    "eigenvalues, eigenvectors = np.linalg.eig(cov)\n",
    "# eigenvectors = eigenvectors * (-1)\n",
    "print(eigenvalues)\n",
    "print(eigenvectors)"
   ]
  },
  {
   "cell_type": "markdown",
   "metadata": {},
   "source": [
    "#### Calculating manually"
   ]
  },
  {
   "cell_type": "markdown",
   "metadata": {},
   "source": [
    "Calulating through equation:"
   ]
  },
  {
   "cell_type": "markdown",
   "metadata": {},
   "source": [
    "$$\\bold{|C – \\lambda I| = 0}\n",
    "\\\\[5pt]\n",
    "\\Leftrightarrow\n",
    "\\begin{bmatrix}\n",
    "14 & -11 \\\\\n",
    "-11 & 23 \\\\\n",
    "\\end{bmatrix}\n",
    "- \\lambda\n",
    "\\begin{bmatrix}\n",
    "1 & 0 \\\\\n",
    "0 & 1 \\\\\n",
    "\\end{bmatrix}\n",
    "= 0\n",
    "\\\\[5pt]\n",
    "\\Leftrightarrow\n",
    "\\begin{bmatrix}\n",
    "14 - \\lambda & -11 \\\\\n",
    "-11 & 23 - \\lambda\\\\\n",
    "\\end{bmatrix}\n",
    "= 0$$"
   ]
  },
  {
   "cell_type": "markdown",
   "metadata": {},
   "source": [
    "Now we take the determinant of the left side:"
   ]
  },
  {
   "cell_type": "markdown",
   "metadata": {},
   "source": [
    "$$ \\Leftrightarrow\n",
    "(14 - \\lambda)(23 - \\lambda) - (-11)(-11) = 0\n",
    "\\\\[5pt]\n",
    "\\Leftrightarrow\n",
    "\\lambda^2 - 37\\lambda + 201 = 0\n",
    "\\\\[5pt]\n",
    "\\Leftrightarrow\n",
    "\\left[\\begin{array}{l}\n",
    "\\lambda_1 = \\frac{37 + \\sqrt{565}}{2} \\\\\n",
    "\\lambda_2 = \\frac{37 - \\sqrt{565}}{2}\n",
    "\\end{array} \\right.\n",
    "$$\n",
    "\n"
   ]
  },
  {
   "cell_type": "markdown",
   "metadata": {},
   "source": [
    "Now we have the eigenvalues, next let's find find the eigenvectors:"
   ]
  },
  {
   "cell_type": "markdown",
   "metadata": {},
   "source": [
    "$$\n",
    "\\Leftrightarrow\n",
    "C . U = \\lambda . U \n",
    "\\text{ with U = } \n",
    "\\begin{bmatrix}\n",
    "x \\\\\n",
    "y \\\\\n",
    "\\end{bmatrix}\n",
    "\\\\[5pt]\n",
    "\\Leftrightarrow\n",
    "\\begin{bmatrix}\n",
    "14 & -11 \\\\\n",
    "-11 & 23 \\\\\n",
    "\\end{bmatrix}\n",
    "\\begin{bmatrix}\n",
    "x \\\\\n",
    "y \\\\\n",
    "\\end{bmatrix} =\n",
    "\\lambda\n",
    "\\begin{bmatrix}\n",
    "x \\\\\n",
    "y \\\\\n",
    "\\end{bmatrix}\n",
    "\\\\[5pt]\n",
    "\\Leftrightarrow\n",
    "\\left\\{\\begin{array}{l}\n",
    "14x - 11y = \\lambda x \\\\\n",
    "-11x + 23y = \\lambda y\n",
    "\\end{array} \\right.\n",
    "\\\\[5pt]\n",
    "\\Leftrightarrow\n",
    "\\left\\{\\begin{array}{l}\n",
    "14x - 11y = \\lambda x \\\\\n",
    "x = \\frac{23 - \\lambda}{11}y\n",
    "\\end{array} \\right.\n",
    "$$"
   ]
  },
  {
   "cell_type": "markdown",
   "metadata": {},
   "source": [
    "+ With $\\lambda_1 = \\frac{37 + \\sqrt{565}}{2}$, we have:"
   ]
  },
  {
   "cell_type": "markdown",
   "metadata": {},
   "source": [
    "Assuming $y = 1$, we have $x = \\frac{9 - \\sqrt{565}}{22}$:"
   ]
  },
  {
   "cell_type": "markdown",
   "metadata": {},
   "source": [
    "$$\n",
    "U_1 \n",
    "= \n",
    "\\sqrt{x^2 + y^2}\n",
    "\\\\[5pt]\n",
    "\\Leftrightarrow\n",
    "U_1 \n",
    "= \n",
    "\\sqrt{(\\frac{9 - \\sqrt{565}}{22})^2 + 1^2}\n",
    "\\\\[5pt]\n",
    "U_1 = 1.204455\n",
    "$$"
   ]
  },
  {
   "cell_type": "markdown",
   "metadata": {},
   "source": [
    "Now we have the eigenvectors, and they are:"
   ]
  },
  {
   "cell_type": "markdown",
   "metadata": {},
   "source": [
    "$$\n",
    "E_1 =\n",
    "\\begin{bmatrix}\n",
    "\\frac{\\frac{9 - \\sqrt{565}}{22}}{U_1} \n",
    "\\\\[5pt]\n",
    "\\frac{1}{U_1}\n",
    "\\end{bmatrix}\n",
    "\\\\[5pt]\n",
    "\\Leftrightarrow\n",
    "E_1 =\n",
    "\\begin{bmatrix}\n",
    "-0.5574\n",
    "\\\\\n",
    "0.8303\n",
    "\\end{bmatrix}\n",
    "$$"
   ]
  },
  {
   "cell_type": "markdown",
   "metadata": {},
   "source": [
    "+ With $\\lambda_2 = \\frac{37 - \\sqrt{565}}{2}$, we have:"
   ]
  },
  {
   "cell_type": "markdown",
   "metadata": {},
   "source": [
    "Assuming $y = 1$, we have $x = \\frac{9 + \\sqrt{565}}{22}$:"
   ]
  },
  {
   "cell_type": "markdown",
   "metadata": {},
   "source": [
    "$$\n",
    "U_1 \n",
    "= \n",
    "\\sqrt{x^2 + y^2}\n",
    "\\\\[5pt]\n",
    "\\Leftrightarrow\n",
    "U_1 \n",
    "= \n",
    "\\sqrt{(\\frac{9 + \\sqrt{565}}{22})^2 + 1^2}\n",
    "\\\\[5pt]\n",
    "U_1 = 1.79407\n",
    "$$"
   ]
  },
  {
   "cell_type": "markdown",
   "metadata": {},
   "source": [
    "Now we have the eigenvectors, and they are:"
   ]
  },
  {
   "cell_type": "markdown",
   "metadata": {},
   "source": [
    "$$\n",
    "E_2 =\n",
    "\\begin{bmatrix}\n",
    "\\frac{\\frac{9 + \\sqrt{565}}{22}}{U_2} \n",
    "\\\\[5pt]\n",
    "\\frac{1}{U_2}\n",
    "\\end{bmatrix}\n",
    "\\\\[5pt]\n",
    "\\Leftrightarrow\n",
    "E_2 =\n",
    "\\begin{bmatrix}\n",
    "0.8303\n",
    "\\\\\n",
    "0.5574\n",
    "\\end{bmatrix}\n",
    "$$"
   ]
  },
  {
   "cell_type": "markdown",
   "metadata": {},
   "source": [
    "## Step 4: Arrange the Eigenvalues"
   ]
  },
  {
   "cell_type": "markdown",
   "metadata": {},
   "source": [
    "now we have the feature vector:\n",
    "$$\n",
    "\\begin{bmatrix}\n",
    "-0.5574\n",
    "&\n",
    "0.8303 \n",
    "\\\\[5pt]\n",
    "0.8303\n",
    "&\n",
    "0.5574 \n",
    "\\end{bmatrix}\n",
    "$$"
   ]
  },
  {
   "cell_type": "markdown",
   "metadata": {},
   "source": [
    "The eigenvector with the highest eigenvalue is the Principal Component of the dataset. Thus, in this case, eigenvectors of $\\lambda_2$ are the principal components. "
   ]
  },
  {
   "cell_type": "markdown",
   "metadata": {},
   "source": [
    "## Step 5: Dataset projection"
   ]
  },
  {
   "cell_type": "markdown",
   "metadata": {},
   "source": [
    "Use equation to transform the dataset: \n",
    "$$\n",
    "Z = X V\n",
    "\\\\[5pt]\n",
    "\\text{With X is the latest dataset and V is the feature vector}\n",
    "$$\n"
   ]
  },
  {
   "cell_type": "code",
   "execution_count": 44,
   "metadata": {},
   "outputs": [
    {
     "name": "stdout",
     "output_type": "stream",
     "text": [
      "[[ 1.92752836 -4.30518692]\n",
      " [ 2.50825486  3.73612869]\n",
      " [-2.20038921  5.69282771]\n",
      " [-2.23539401 -5.12376947]]\n"
     ]
    }
   ],
   "source": [
    "P = eigenvectors.T.dot(X_centered.T)\n",
    "print(P.T)"
   ]
  },
  {
   "cell_type": "markdown",
   "metadata": {},
   "source": [
    "Use these equations to reconstruct data:\n",
    "- To reconstruct the mean dataset:\n",
    "$$\n",
    "\\\\[5pt]\n",
    "X = Z V\n",
    "\\\\[5pt]\n",
    "\\text{X would be the row mean dataset}\n",
    "$$\n",
    "- To reconstruct the original dataset:\n",
    "$\\bold{Row Original DataSet = Row Zero Mean Data + Original Mean}$"
   ]
  },
  {
   "cell_type": "code",
   "execution_count": 47,
   "metadata": {},
   "outputs": [
    {
     "name": "stdout",
     "output_type": "stream",
     "text": [
      "[[-4.0000000e+00  2.5000000e+00]\n",
      " [ 2.3471736e-16 -4.5000000e+00]\n",
      " [ 5.0000000e+00 -3.5000000e+00]\n",
      " [-1.0000000e+00  5.5000000e+00]]\n",
      "[[ 4. 11.]\n",
      " [ 8.  4.]\n",
      " [13.  5.]\n",
      " [ 7. 14.]]\n"
     ]
    }
   ],
   "source": [
    "#reconstruct the mean data\n",
    "X_mean_reconstructed = eigenvectors.dot(P).T\n",
    "print(X_mean_reconstructed)\n",
    "\n",
    "#reconstruct the original data\n",
    "X_reconstructed = X_mean_reconstructed + mean\n",
    "print(X_reconstructed)"
   ]
  }
 ],
 "metadata": {
  "kernelspec": {
   "display_name": "Python 3",
   "language": "python",
   "name": "python3"
  },
  "language_info": {
   "codemirror_mode": {
    "name": "ipython",
    "version": 3
   },
   "file_extension": ".py",
   "mimetype": "text/x-python",
   "name": "python",
   "nbconvert_exporter": "python",
   "pygments_lexer": "ipython3",
   "version": "3.12.2"
  }
 },
 "nbformat": 4,
 "nbformat_minor": 2
}
